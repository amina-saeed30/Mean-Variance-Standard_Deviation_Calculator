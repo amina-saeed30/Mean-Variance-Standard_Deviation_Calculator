{
 "cells": [
  {
   "cell_type": "code",
   "execution_count": null,
   "id": "3c2899f9-18df-49f9-ba82-db9bc92a4412",
   "metadata": {},
   "outputs": [],
   "source": [
    "import numpy as np\n",
    "\n",
    "def main():\n",
    "    numbers = list(map(float, input(\"Enter numbers separated by spaces: \").split()))\n",
    "    \n",
    "    if len(numbers) == 0:\n",
    "        print(\"No numbers entered.\")\n",
    "        return\n",
    "    \n",
    "    mean = np.mean(numbers)\n",
    "    variance = np.var(numbers)\n",
    "    std_dev = np.std(numbers)\n",
    "    \n",
    "    print(f\"Mean: {mean}\")\n",
    "    print(f\"Variance: {variance}\")\n",
    "    print(f\"Standard Deviation: {std_dev}\")\n",
    "main()"
   ]
  },
  {
   "cell_type": "code",
   "execution_count": null,
   "id": "69c02cdf-13db-4202-a46b-62e6b602e6dd",
   "metadata": {},
   "outputs": [],
   "source": []
  }
 ],
 "metadata": {
  "kernelspec": {
   "display_name": "Python 3 (ipykernel)",
   "language": "python",
   "name": "python3"
  },
  "language_info": {
   "codemirror_mode": {
    "name": "ipython",
    "version": 3
   },
   "file_extension": ".py",
   "mimetype": "text/x-python",
   "name": "python",
   "nbconvert_exporter": "python",
   "pygments_lexer": "ipython3",
   "version": "3.10.5"
  }
 },
 "nbformat": 4,
 "nbformat_minor": 5
}
